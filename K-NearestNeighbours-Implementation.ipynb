{
 "cells": [
  {
   "cell_type": "markdown",
   "metadata": {},
   "source": [
    "### Author: Navule Pavan Kumar Rao \n",
    "## kNN Implementation from the scratch"
   ]
  },
  {
   "cell_type": "code",
   "execution_count": 1,
   "metadata": {},
   "outputs": [],
   "source": [
    "import pandas as pd\n",
    "import numpy as np\n",
    "import random\n",
    "from random import randint"
   ]
  },
  {
   "cell_type": "markdown",
   "metadata": {},
   "source": [
    "Build your own dataset (with unique data-points) using Python libraries. The dataset\n",
    "must consist of at least 1000 data-points in the form (ID,A,B,C,D,E,F,Class) where\n",
    "\n",
    "0 ≤ A, B, C, D, E, F ≤ 100                         (1)\n",
    "\n",
    "\n",
    "and ID is the sequentially generated number of that data-point. The value of Class is\n",
    "0 or 1 (randomly assigned)."
   ]
  },
  {
   "cell_type": "code",
   "execution_count": 2,
   "metadata": {},
   "outputs": [],
   "source": [
    "no_of_data_points=1000\n",
    "#generate 1000 random binary digits either 0 or 1 for Class column\n",
    "cls=[randint(0,1) for p in range(0,no_of_data_points)]"
   ]
  },
  {
   "cell_type": "code",
   "execution_count": 3,
   "metadata": {},
   "outputs": [],
   "source": [
    "#define dictionary with columns A to F and Class\n",
    "dataSet={\n",
    "            'A':[randint(0,100) for p in range(0,no_of_data_points)],\n",
    "            'B':[randint(0,100) for p in range(0,no_of_data_points)],\n",
    "            'C':[randint(0,100) for p in range(0,no_of_data_points)],\n",
    "            'D':[randint(0,100) for p in range(0,no_of_data_points)],\n",
    "            'E':[randint(0,100) for p in range(0,no_of_data_points)],\n",
    "            'F':[randint(0,100) for p in range(0,no_of_data_points)],\n",
    "            'CLASS':cls\n",
    "        }"
   ]
  },
  {
   "cell_type": "code",
   "execution_count": 4,
   "metadata": {},
   "outputs": [],
   "source": [
    "#convert that dataSet to pandas data frame for futher manipulation\n",
    "df = pd.DataFrame(dataSet, columns= ['A','B','C','D','E','F','CLASS'])"
   ]
  },
  {
   "cell_type": "code",
   "execution_count": 5,
   "metadata": {},
   "outputs": [
    {
     "data": {
      "text/plain": [
       "(1000, 7)"
      ]
     },
     "execution_count": 5,
     "metadata": {},
     "output_type": "execute_result"
    }
   ],
   "source": [
    "df.shape"
   ]
  },
  {
   "cell_type": "code",
   "execution_count": 6,
   "metadata": {},
   "outputs": [
    {
     "data": {
      "text/html": [
       "<div>\n",
       "<style scoped>\n",
       "    .dataframe tbody tr th:only-of-type {\n",
       "        vertical-align: middle;\n",
       "    }\n",
       "\n",
       "    .dataframe tbody tr th {\n",
       "        vertical-align: top;\n",
       "    }\n",
       "\n",
       "    .dataframe thead th {\n",
       "        text-align: right;\n",
       "    }\n",
       "</style>\n",
       "<table border=\"1\" class=\"dataframe\">\n",
       "  <thead>\n",
       "    <tr style=\"text-align: right;\">\n",
       "      <th></th>\n",
       "      <th>A</th>\n",
       "      <th>B</th>\n",
       "      <th>C</th>\n",
       "      <th>D</th>\n",
       "      <th>E</th>\n",
       "      <th>F</th>\n",
       "      <th>CLASS</th>\n",
       "    </tr>\n",
       "  </thead>\n",
       "  <tbody>\n",
       "    <tr>\n",
       "      <th>0</th>\n",
       "      <td>40</td>\n",
       "      <td>54</td>\n",
       "      <td>22</td>\n",
       "      <td>88</td>\n",
       "      <td>9</td>\n",
       "      <td>99</td>\n",
       "      <td>1</td>\n",
       "    </tr>\n",
       "    <tr>\n",
       "      <th>1</th>\n",
       "      <td>93</td>\n",
       "      <td>63</td>\n",
       "      <td>46</td>\n",
       "      <td>29</td>\n",
       "      <td>91</td>\n",
       "      <td>82</td>\n",
       "      <td>1</td>\n",
       "    </tr>\n",
       "    <tr>\n",
       "      <th>2</th>\n",
       "      <td>23</td>\n",
       "      <td>17</td>\n",
       "      <td>42</td>\n",
       "      <td>4</td>\n",
       "      <td>48</td>\n",
       "      <td>6</td>\n",
       "      <td>1</td>\n",
       "    </tr>\n",
       "    <tr>\n",
       "      <th>3</th>\n",
       "      <td>43</td>\n",
       "      <td>96</td>\n",
       "      <td>96</td>\n",
       "      <td>61</td>\n",
       "      <td>64</td>\n",
       "      <td>41</td>\n",
       "      <td>0</td>\n",
       "    </tr>\n",
       "    <tr>\n",
       "      <th>4</th>\n",
       "      <td>72</td>\n",
       "      <td>40</td>\n",
       "      <td>87</td>\n",
       "      <td>35</td>\n",
       "      <td>19</td>\n",
       "      <td>97</td>\n",
       "      <td>1</td>\n",
       "    </tr>\n",
       "  </tbody>\n",
       "</table>\n",
       "</div>"
      ],
      "text/plain": [
       "    A   B   C   D   E   F  CLASS\n",
       "0  40  54  22  88   9  99      1\n",
       "1  93  63  46  29  91  82      1\n",
       "2  23  17  42   4  48   6      1\n",
       "3  43  96  96  61  64  41      0\n",
       "4  72  40  87  35  19  97      1"
      ]
     },
     "execution_count": 6,
     "metadata": {},
     "output_type": "execute_result"
    }
   ],
   "source": [
    "df.head()"
   ]
  },
  {
   "cell_type": "code",
   "execution_count": 7,
   "metadata": {},
   "outputs": [
    {
     "data": {
      "text/html": [
       "<div>\n",
       "<style scoped>\n",
       "    .dataframe tbody tr th:only-of-type {\n",
       "        vertical-align: middle;\n",
       "    }\n",
       "\n",
       "    .dataframe tbody tr th {\n",
       "        vertical-align: top;\n",
       "    }\n",
       "\n",
       "    .dataframe thead th {\n",
       "        text-align: right;\n",
       "    }\n",
       "</style>\n",
       "<table border=\"1\" class=\"dataframe\">\n",
       "  <thead>\n",
       "    <tr style=\"text-align: right;\">\n",
       "      <th></th>\n",
       "      <th>A</th>\n",
       "      <th>B</th>\n",
       "      <th>C</th>\n",
       "      <th>D</th>\n",
       "      <th>E</th>\n",
       "      <th>F</th>\n",
       "      <th>CLASS</th>\n",
       "    </tr>\n",
       "  </thead>\n",
       "  <tbody>\n",
       "    <tr>\n",
       "      <th>995</th>\n",
       "      <td>86</td>\n",
       "      <td>83</td>\n",
       "      <td>99</td>\n",
       "      <td>74</td>\n",
       "      <td>0</td>\n",
       "      <td>8</td>\n",
       "      <td>1</td>\n",
       "    </tr>\n",
       "    <tr>\n",
       "      <th>996</th>\n",
       "      <td>50</td>\n",
       "      <td>16</td>\n",
       "      <td>98</td>\n",
       "      <td>86</td>\n",
       "      <td>1</td>\n",
       "      <td>19</td>\n",
       "      <td>1</td>\n",
       "    </tr>\n",
       "    <tr>\n",
       "      <th>997</th>\n",
       "      <td>99</td>\n",
       "      <td>31</td>\n",
       "      <td>31</td>\n",
       "      <td>66</td>\n",
       "      <td>15</td>\n",
       "      <td>57</td>\n",
       "      <td>1</td>\n",
       "    </tr>\n",
       "    <tr>\n",
       "      <th>998</th>\n",
       "      <td>20</td>\n",
       "      <td>39</td>\n",
       "      <td>32</td>\n",
       "      <td>88</td>\n",
       "      <td>37</td>\n",
       "      <td>4</td>\n",
       "      <td>0</td>\n",
       "    </tr>\n",
       "    <tr>\n",
       "      <th>999</th>\n",
       "      <td>100</td>\n",
       "      <td>93</td>\n",
       "      <td>36</td>\n",
       "      <td>13</td>\n",
       "      <td>40</td>\n",
       "      <td>66</td>\n",
       "      <td>0</td>\n",
       "    </tr>\n",
       "  </tbody>\n",
       "</table>\n",
       "</div>"
      ],
      "text/plain": [
       "       A   B   C   D   E   F  CLASS\n",
       "995   86  83  99  74   0   8      1\n",
       "996   50  16  98  86   1  19      1\n",
       "997   99  31  31  66  15  57      1\n",
       "998   20  39  32  88  37   4      0\n",
       "999  100  93  36  13  40  66      0"
      ]
     },
     "execution_count": 7,
     "metadata": {},
     "output_type": "execute_result"
    }
   ],
   "source": [
    "df.tail()"
   ]
  },
  {
   "cell_type": "code",
   "execution_count": 8,
   "metadata": {
    "scrolled": true
   },
   "outputs": [
    {
     "data": {
      "text/plain": [
       "(1000, 7)"
      ]
     },
     "execution_count": 8,
     "metadata": {},
     "output_type": "execute_result"
    }
   ],
   "source": [
    "df.groupby(level=0).first().shape #Check for uniqueness of the data"
   ]
  },
  {
   "cell_type": "markdown",
   "metadata": {},
   "source": [
    "#### Create a random 80-20 split of the data into train and test respectively."
   ]
  },
  {
   "cell_type": "code",
   "execution_count": 9,
   "metadata": {},
   "outputs": [],
   "source": [
    "#Create a random 80-20 split of the data into train and test respectively\n",
    "from sklearn.model_selection import train_test_split\n",
    "train, test = train_test_split(df, test_size=0.2)"
   ]
  },
  {
   "cell_type": "code",
   "execution_count": 10,
   "metadata": {},
   "outputs": [
    {
     "data": {
      "text/plain": [
       "(800, 200)"
      ]
     },
     "execution_count": 10,
     "metadata": {},
     "output_type": "execute_result"
    }
   ],
   "source": [
    "len(train),len(test)"
   ]
  },
  {
   "cell_type": "markdown",
   "metadata": {},
   "source": [
    "#### Store them in two different csv files."
   ]
  },
  {
   "cell_type": "code",
   "execution_count": 11,
   "metadata": {},
   "outputs": [],
   "source": [
    "#create directory 'output\\1_kNN' if it doesn't exists\n",
    "import os, errno\n",
    "output_folder='output\\\\1_kNN'\n",
    "try:\n",
    "    os.makedirs(output_folder)\n",
    "except OSError as e:\n",
    "    if e.errno != errno.EEXIST:\n",
    "        raise"
   ]
  },
  {
   "cell_type": "code",
   "execution_count": 12,
   "metadata": {},
   "outputs": [],
   "source": [
    "df.to_csv(output_folder + '\\\\dataset.csv',sep=',',encoding='utf-8',index=False)"
   ]
  },
  {
   "cell_type": "code",
   "execution_count": 13,
   "metadata": {},
   "outputs": [],
   "source": [
    "#place train and test data in separate files in the output directory created\n",
    "#following command generates train.csv file with , separated columns in output folder\n",
    "train.to_csv(output_folder + '\\\\train.csv',sep=',',encoding='utf-8',index=False)"
   ]
  },
  {
   "cell_type": "code",
   "execution_count": 14,
   "metadata": {},
   "outputs": [],
   "source": [
    "#following command generates test.csv file with tab separated columns in output folder\n",
    "test.to_csv(output_folder + '\\\\test.csv',sep=',',encoding='utf-8',index=False)"
   ]
  },
  {
   "cell_type": "markdown",
   "metadata": {},
   "source": [
    "####  Plot the train data and test data with different labels on the same plot."
   ]
  },
  {
   "cell_type": "code",
   "execution_count": 15,
   "metadata": {},
   "outputs": [],
   "source": [
    "import matplotlib.pyplot as plt\n",
    "from matplotlib.ticker import MaxNLocator\n",
    "from matplotlib.colors import ListedColormap"
   ]
  },
  {
   "cell_type": "code",
   "execution_count": 16,
   "metadata": {},
   "outputs": [],
   "source": [
    "#select features A, B, C. \n",
    "from sklearn import neighbors, datasets\n",
    "\n",
    "def plot_features(ax, data_to_plt, c1,c2):\n",
    "    features_considered=6\n",
    "    X= data_to_plt[data_to_plt.columns.values.tolist()[0:features_considered]]\n",
    "    y=data_to_plt['CLASS']\n",
    "    plot_feat = X.columns.values.tolist()[:-1]\n",
    "    plt.scatter(X[y==0]['A'], X[y==0]['B'], s=4,label='0', c=c1)\n",
    "    plt.scatter(X[y==1]['A'], X[y==1]['B'], s=4,label='1', c=c2)\n",
    "    ax.set_xlabel(\"feature A\")\n",
    "    ax.set_ylabel(\"feature B\")\n",
    "    return plt\n"
   ]
  },
  {
   "cell_type": "markdown",
   "metadata": {},
   "source": [
    "##### Following 2 dimensional slicing we plot considering features A, B\n",
    "http://www.apnorton.com/blog/2016/12/19/Visualizing-Multidimensional-Data-in-Python/ "
   ]
  },
  {
   "cell_type": "code",
   "execution_count": 17,
   "metadata": {},
   "outputs": [
    {
     "data": {
      "image/png": "[encoded data removed]",
      "text/plain": [
       "<matplotlib.figure.Figure at 0x2676ee4c9b0>"
      ]
     },
     "metadata": {},
     "output_type": "display_data"
    }
   ],
   "source": [
    "fig1, ax1 = plt.subplots(figsize=(15, 12))\n",
    "plt.title('Training and Test data scatter plot')\n",
    "\n",
    "p1=plot_features(ax1,train, 'red','blue')\n",
    "p2=plot_features(ax1,test,'magenta','green')\n",
    "p1.legend(loc='best')\n",
    "p2.savefig(output_folder+'\\\\1_train_and_test_data.png')\n",
    "p2.show()"
   ]
  },
  {
   "cell_type": "markdown",
   "metadata": {},
   "source": [
    "### Lets do some preprocessing"
   ]
  },
  {
   "cell_type": "code",
   "execution_count": 18,
   "metadata": {},
   "outputs": [],
   "source": [
    "train=np.array(train)\n",
    "test=np.array(test)"
   ]
  },
  {
   "cell_type": "code",
   "execution_count": 19,
   "metadata": {},
   "outputs": [
    {
     "data": {
      "text/plain": [
       "((800, 7), (200, 7))"
      ]
     },
     "execution_count": 19,
     "metadata": {},
     "output_type": "execute_result"
    }
   ],
   "source": [
    "# we observe that training has 80% data i.e., 800 rows \n",
    "# and test set has 20% data i.e., 200 rows\n",
    "train.shape, test.shape"
   ]
  },
  {
   "cell_type": "code",
   "execution_count": 20,
   "metadata": {},
   "outputs": [
    {
     "data": {
      "text/plain": [
       "(array([17, 23, 47, 59, 77, 52,  0], dtype=int64),\n",
       " array([17, 23, 47, 59, 77, 52], dtype=int64),\n",
       " array([[ 73,  99,  84,  40,  95,  11,   0],\n",
       "        [ 35,   9,  18,  18,  42,   5,   1],\n",
       "        [ 93,  82,  32,  18,  72,  43,   0],\n",
       "        [ 91,  36,  62,  67,  40,  98,   1],\n",
       "        [ 80,  34,   2,  11, 100,  21,   1]], dtype=int64))"
      ]
     },
     "execution_count": 20,
     "metadata": {},
     "output_type": "execute_result"
    }
   ],
   "source": [
    "test[0],test[0][:-1], train[:5]"
   ]
  },
  {
   "cell_type": "markdown",
   "metadata": {},
   "source": [
    "### kNN Algorithm Steps:\n",
    "\n",
    "  For every point in our dataset:\n",
    "  \n",
    "    1 Calculate the distance between two data points train dataset and test data point (like Euclidean distance, Hamming distance. We will be using Euclidean distance)\n",
    "    \n",
    "    2 Sort the distances in increasing order\n",
    "    \n",
    "    3 Take k items with lowest distances to train data\n",
    "    \n",
    "    4 Find the majority class among these items\n",
    "    \n",
    "    5 Return the majority class as our prediction for the class of train dataset"
   ]
  },
  {
   "cell_type": "markdown",
   "metadata": {},
   "source": [
    "#### Lets implement code for each and every step "
   ]
  },
  {
   "cell_type": "markdown",
   "metadata": {},
   "source": [
    "##### 1 Calculate the distance between two data points train dataset and test data point"
   ]
  },
  {
   "cell_type": "code",
   "execution_count": 21,
   "metadata": {},
   "outputs": [],
   "source": [
    "import math\n",
    "def get_euclidian_distance(d1, d2):\n",
    "    points = zip(d1,d2)\n",
    "    squared_diffs = [pow(a - b, 2) for (a, b) in points]\n",
    "    sum_of_squred_diffs = sum(squared_diffs)\n",
    "    eu_distance = math.sqrt(sum_of_squred_diffs)\n",
    "    return eu_distance"
   ]
  },
  {
   "cell_type": "code",
   "execution_count": 22,
   "metadata": {},
   "outputs": [
    {
     "data": {
      "text/plain": [
       "116.9529820055906"
      ]
     },
     "execution_count": 22,
     "metadata": {},
     "output_type": "execute_result"
    }
   ],
   "source": [
    "get_euclidian_distance(train[0][:-1],train[9][:-1])"
   ]
  },
  {
   "cell_type": "markdown",
   "metadata": {},
   "source": [
    "##### 2 Sort the distances in increasing order\n",
    "##### 3 Take k items with lowest distances to train data"
   ]
  },
  {
   "cell_type": "code",
   "execution_count": 23,
   "metadata": {},
   "outputs": [],
   "source": [
    "#2 Sort the distances in increasing order\n",
    "#3 Take k items with lowest distances to train data\n",
    "from operator import itemgetter\n",
    " \n",
    "def get_neighbours(train_set, test_data):\n",
    "    distances = [get_dist_and_train_data(train_data, test_data) for train_data in train_set]\n",
    " \n",
    "    # index 0 is the train_data\n",
    "    # index 1 is the calculated distance between train_data and test_data\n",
    "    sorted_distances = sorted(distances, key=itemgetter(1))\n",
    "    #print(sorted_distances)\n",
    "    # extract only training instances\n",
    "    sorted_training_instances = [tuple[0] for tuple in sorted_distances]\n",
    " \n",
    "    # return k Nearest Neighbours (as these are sorted in increasing order of distances)\n",
    "    return sorted_training_instances\n",
    " \n",
    "def get_dist_and_train_data(train_data, test_data):\n",
    "    #test_data[:-1] as the last element in it is the classification data\n",
    "    return (train_data, get_euclidian_distance(test_data[:-1], train_data))"
   ]
  },
  {
   "cell_type": "code",
   "execution_count": 24,
   "metadata": {},
   "outputs": [
    {
     "data": {
      "text/plain": [
       "(array([91,  6, 87, 12, 11, 73,  1], dtype=int64),\n",
       " [array([66, 19, 64, 16, 12,  7,  1], dtype=int64),\n",
       "  array([97,  2, 57, 47, 12,  4,  0], dtype=int64),\n",
       "  array([85,  6, 91, 51, 50, 18,  0], dtype=int64)])"
      ]
     },
     "execution_count": 24,
     "metadata": {},
     "output_type": "execute_result"
    }
   ],
   "source": [
    "test[3],get_neighbours(train[:50],test[3][:-1])[:3]"
   ]
  },
  {
   "cell_type": "markdown",
   "metadata": {},
   "source": [
    "##### 4 Find the majority class among these items\n",
    "##### 5 Return the majority class as our prediction for the class of train dataset"
   ]
  },
  {
   "cell_type": "code",
   "execution_count": 25,
   "metadata": {},
   "outputs": [],
   "source": [
    "#4 Find the majority class among these items\n",
    "#5 Return the majority class as our prediction for the class of train dataset\n",
    "from collections import Counter\n",
    "def get_majority_class(neighbours):\n",
    "    # index -1 is the class\n",
    "    classes = [neighbour[-1] for neighbour in neighbours]\n",
    "    count = Counter(classes)\n",
    "    if len(count)>0:\n",
    "        return count.most_common(1)[0][0]"
   ]
  },
  {
   "cell_type": "markdown",
   "metadata": {},
   "source": [
    "### Custom kNN Alogrithm Implementation"
   ]
  },
  {
   "cell_type": "code",
   "execution_count": 26,
   "metadata": {},
   "outputs": [],
   "source": [
    "from sklearn.metrics import classification_report, accuracy_score\n",
    "def get_kNN(k):\n",
    "    if(k==0):\n",
    "        raise ValueError('min k value should be 1')\n",
    "    predicted_values=[]\n",
    "    actual_values=[]\n",
    "    tlen=len(test)\n",
    "    for i in range(tlen):\n",
    "        #pass the test data excluding the class ,:-1\n",
    "        nbrs=get_neighbours(train, test[i,:-1])[:k]\n",
    "        classified = get_majority_class(nbrs)\n",
    "        predicted_values.append(classified)\n",
    "        actual_values.append(test[i,-1:][0])\n",
    "    accuracy = accuracy_score(actual_values,predicted_values)*100,\n",
    "    return float(\"%.2f\" % accuracy), predicted_values"
   ]
  },
  {
   "cell_type": "code",
   "execution_count": 27,
   "metadata": {},
   "outputs": [
    {
     "name": "stdout",
     "output_type": "stream",
     "text": [
      "Accuracy is  56.5 % for K-Value: 15\n",
      "1\n"
     ]
    }
   ],
   "source": [
    "K=15\n",
    "acc,predicted=get_kNN(K)\n",
    "print (\"Accuracy is \", acc,\"% for K-Value:\",K)\n",
    "print(Counter(predicted).most_common()[0][0])"
   ]
  },
  {
   "cell_type": "markdown",
   "metadata": {},
   "source": [
    "#### Run this implemention for different values of K (1 to 21 inclusive)."
   ]
  },
  {
   "cell_type": "code",
   "execution_count": 28,
   "metadata": {},
   "outputs": [],
   "source": [
    "import timeit\n",
    "run_times=[]\n",
    "accuracies=[]\n",
    "for i in range(1,22):\n",
    "    start_time = timeit.default_timer()\n",
    "    acc,pred=get_kNN(i)\n",
    "    accuracies.append(acc)\n",
    "    run_times.append(timeit.default_timer() - start_time)"
   ]
  },
  {
   "cell_type": "code",
   "execution_count": 29,
   "metadata": {},
   "outputs": [
    {
     "data": {
      "text/plain": [
       "[48.0,\n",
       " 48.0,\n",
       " 53.5,\n",
       " 50.0,\n",
       " 54.0,\n",
       " 49.5,\n",
       " 56.0,\n",
       " 55.0,\n",
       " 54.5,\n",
       " 56.0,\n",
       " 55.5,\n",
       " 54.5,\n",
       " 55.0,\n",
       " 54.5,\n",
       " 56.5,\n",
       " 55.5,\n",
       " 58.5,\n",
       " 57.5,\n",
       " 56.0,\n",
       " 54.5,\n",
       " 55.5]"
      ]
     },
     "execution_count": 29,
     "metadata": {},
     "output_type": "execute_result"
    }
   ],
   "source": [
    "accuracies"
   ]
  },
  {
   "cell_type": "markdown",
   "metadata": {},
   "source": [
    "Plot the train data and test data with different labels on\n",
    "the same plot. (Note : You will need to submit the csv files. Adhere to the format\n",
    "mentioned above)"
   ]
  },
  {
   "cell_type": "markdown",
   "metadata": {},
   "source": [
    "#### Run using the library (sklearn) implementation of kNN."
   ]
  },
  {
   "cell_type": "code",
   "execution_count": 30,
   "metadata": {},
   "outputs": [
    {
     "name": "stderr",
     "output_type": "stream",
     "text": [
      "C:\\ProgramData\\Anaconda3\\lib\\site-packages\\sklearn\\cross_validation.py:41: DeprecationWarning: This module was deprecated in version 0.18 in favor of the model_selection module into which all the refactored classes and functions are moved. Also note that the interface of the new CV iterators are different from that of this module. This module will be removed in 0.20.\n",
      "  \"This module will be removed in 0.20.\", DeprecationWarning)\n"
     ]
    }
   ],
   "source": [
    "#implementation using sklearn\n",
    "from sklearn.neighbors import KNeighborsClassifier\n",
    "from sklearn.metrics import accuracy_score\n",
    "from sklearn.cross_validation import train_test_split"
   ]
  },
  {
   "cell_type": "code",
   "execution_count": 31,
   "metadata": {},
   "outputs": [],
   "source": [
    "X = df.values[:,range(0,6)]\n",
    "Y = df.values[:,6]\n",
    "X_train, X_test, y_train, y_test = train_test_split(X, Y, test_size = 0.2, random_state = 100)\n",
    "y_train = y_train.ravel()\n",
    "y_test = y_test.ravel()"
   ]
  },
  {
   "cell_type": "code",
   "execution_count": 32,
   "metadata": {},
   "outputs": [],
   "source": [
    "import timeit\n",
    "def get_runtimes_accuracies(iterations_to_run):\n",
    "    run_times_both=[]\n",
    "    accuracies_both=[]\n",
    "    run_times=[]\n",
    "    accuracies = []\n",
    "    for k in range(1,iterations_to_run + 1):\n",
    "        accuracy_arr = []\n",
    "        runtime_arr = []\n",
    "        \n",
    "        #custom Implementation\n",
    "        start_time = timeit.default_timer()\n",
    "        acc,pred=get_kNN(k)\n",
    "        accuracy_arr.append(acc)\n",
    "        elapsed=timeit.default_timer() - start_time\n",
    "        elapsed=float('%.3f' % elapsed)\n",
    "        runtime_arr.append(elapsed)\n",
    "        #run_times_custom.append(elapsed)\n",
    "\n",
    "        #kNN sklearn Implementation\n",
    "        start_time = timeit.default_timer()\n",
    "        neigh = KNeighborsClassifier(n_neighbors = k, weights='uniform', algorithm='auto')\n",
    "        neigh.fit(X_train, y_train) \n",
    "        y_pred = neigh.predict(X_test)\n",
    "        acc=accuracy_score(y_test,y_pred)*100\n",
    "        acc=float(\"%.2f\" % acc)\n",
    "        accuracy_arr.append(acc)\n",
    "        elapsed=timeit.default_timer() - start_time\n",
    "        elapsed=float('%.3f' % elapsed)\n",
    "        runtime_arr.append(elapsed)\n",
    "        \n",
    "        #finally add run times and accuracies\n",
    "        run_times.append(runtime_arr)\n",
    "        accuracies.append(accuracy_arr)\n",
    "    \n",
    "    return run_times, accuracies"
   ]
  },
  {
   "cell_type": "code",
   "execution_count": 33,
   "metadata": {},
   "outputs": [],
   "source": [
    "iterations=21\n",
    "rt,acc=get_runtimes_accuracies(iterations)"
   ]
  },
  {
   "cell_type": "code",
   "execution_count": 34,
   "metadata": {},
   "outputs": [],
   "source": [
    "rt= np.array(rt)\n",
    "accrcy=np.array(acc)"
   ]
  },
  {
   "cell_type": "code",
   "execution_count": 35,
   "metadata": {},
   "outputs": [
    {
     "data": {
      "text/plain": [
       "(array([0.843, 0.871, 0.774, 0.767, 0.769, 0.765, 0.766, 0.748, 0.761,\n",
       "        0.924, 0.785, 0.808, 0.759, 0.752, 0.799, 0.837, 0.897, 0.813,\n",
       "        0.823, 0.789, 0.743]),\n",
       " array([0.002, 0.003, 0.002, 0.002, 0.002, 0.002, 0.003, 0.003, 0.004,\n",
       "        0.003, 0.005, 0.003, 0.003, 0.004, 0.005, 0.003, 0.004, 0.004,\n",
       "        0.004, 0.004, 0.004]))"
      ]
     },
     "execution_count": 35,
     "metadata": {},
     "output_type": "execute_result"
    }
   ],
   "source": [
    "rt[:,0], rt[:,1]"
   ]
  },
  {
   "cell_type": "code",
   "execution_count": 36,
   "metadata": {},
   "outputs": [],
   "source": [
    "def GetPlot(data_to_plt,ylbl,title_txt):\n",
    "    fig, ax = plt.subplots()\n",
    "    runTimesData = {\n",
    "                    'kNN custom-implmentation' :data_to_plt[:,0],\n",
    "                    'kNN scikit-learn' : data_to_plt[:,1]\n",
    "                   }\n",
    "    rtDf = pd.DataFrame(runTimesData,index = range(1,len(data_to_plt[:,0])+1))\n",
    "    curplt=rtDf.plot(kind='line', ax=ax,style=['d','x'], ls='-', lw=0.5)\n",
    "    ttl=ax.set_title(title_txt)\n",
    "    ttl.get_bbox_patch()\n",
    "    curplt.set_xlabel(\"k-value\")\n",
    "    curplt.set_ylabel(ylbl)\n",
    "    ax.grid(True)\n",
    "    ax.xaxis.set_major_locator(MaxNLocator(integer=True)) #force x lables to use integers\n",
    "    ax.legend(loc='best')\n",
    "    return plt"
   ]
  },
  {
   "cell_type": "code",
   "execution_count": 37,
   "metadata": {},
   "outputs": [
    {
     "data": {
      "image/png": "[encoded data removed]",
      "text/plain": [
       "<matplotlib.figure.Figure at 0x2676f51d588>"
      ]
     },
     "metadata": {},
     "output_type": "display_data"
    }
   ],
   "source": [
    "data_to_plt=rt\n",
    "ylbl=\"Runtime (ms)\"\n",
    "title_txt='Run Time: k-NN Custom vs sk-learn'\n",
    "myplot=GetPlot(data_to_plt,ylbl,title_txt)\n",
    "myplot.savefig(output_folder + '\\\\1_runtime_sklrn-vs-custom_kNN.png')\n",
    "myplot.show()"
   ]
  },
  {
   "cell_type": "code",
   "execution_count": 38,
   "metadata": {},
   "outputs": [
    {
     "data": {
      "image/png": "[encoded data removed]",
      "text/plain": [
       "<matplotlib.figure.Figure at 0x2676f51d240>"
      ]
     },
     "metadata": {},
     "output_type": "display_data"
    }
   ],
   "source": [
    "data_to_plt=accrcy\n",
    "ylbl=\"Accuracy (%)\"\n",
    "title_txt='Accuracy: k-NN Custom vs sk-learn'\n",
    "myplot=GetPlot(data_to_plt,ylbl,title_txt)\n",
    "myplot.savefig(output_folder + '\\\\1_accuracy_sklrn-vs-custom_kNN.png')\n",
    "myplot.show()"
   ]
  },
  {
   "cell_type": "markdown",
   "metadata": {},
   "source": [
    "#### If the input to the K-NN is an even number, what do you expect, and what do you observe? Mention it in the report."
   ]
  },
  {
   "cell_type": "code",
   "execution_count": 39,
   "metadata": {},
   "outputs": [],
   "source": [
    "custom_knn_accuracies=accrcy[:,0]    "
   ]
  },
  {
   "cell_type": "code",
   "execution_count": 40,
   "metadata": {},
   "outputs": [
    {
     "name": "stdout",
     "output_type": "stream",
     "text": [
      "Average accuracy for odd k-values 54.81818181818182\n"
     ]
    }
   ],
   "source": [
    "#odd k values\n",
    "avg_odd_acc = np.average(custom_knn_accuracies[::2])\n",
    "print('Average accuracy for odd k-values', avg_odd_acc)"
   ]
  },
  {
   "cell_type": "code",
   "execution_count": 41,
   "metadata": {},
   "outputs": [
    {
     "name": "stdout",
     "output_type": "stream",
     "text": [
      "Average accuracy for even k-values 53.5\n"
     ]
    }
   ],
   "source": [
    "avg_even_acc=np.average(custom_knn_accuracies[1::2])\n",
    "print('Average accuracy for even k-values', avg_even_acc)"
   ]
  },
  {
   "cell_type": "markdown",
   "metadata": {},
   "source": [
    "##### For Odd values of k we observe that the average accuracy is relatively higer than even values of k in kNN for a classification problem\n",
    "We infer this due to the fact that in case of binary classification if k=2 there is a chance that the training data can only contain sets of same class\n",
    "\n",
    "eg: \n",
    "\n",
    "    [30, 26, 75, 17, 12, 48,  1]\n",
    "\n",
    "    [46, 26, 18, 76, 88, 85,  1]\n",
    "    \n",
    "  This leads to biased classification and leads to poor classification results.\n",
    "  Hence the best practice is to opt for odd values of k to get rid of biased classification"
   ]
  },
  {
   "cell_type": "markdown",
   "metadata": {},
   "source": [
    "##### Output files datasets and graphs present in output\\1_kNN directory"
   ]
  }
 ],
 "metadata": {
  "kernelspec": {
   "display_name": "Python 3",
   "language": "python",
   "name": "python3"
  },
  "language_info": {
   "codemirror_mode": {
    "name": "ipython",
    "version": 3
   },
   "file_extension": ".py",
   "mimetype": "text/x-python",
   "name": "python",
   "nbconvert_exporter": "python",
   "pygments_lexer": "ipython3",
   "version": "3.6.4"
  }
 },
 "nbformat": 4,
 "nbformat_minor": 2
}
